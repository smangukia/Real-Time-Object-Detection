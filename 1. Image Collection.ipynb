{
 "cells": [
  {
   "cell_type": "markdown",
   "metadata": {},
   "source": [
    "# 1. Importing Dependencies"
   ]
  },
  {
   "cell_type": "code",
   "execution_count": 3,
   "metadata": {},
   "outputs": [
    {
     "name": "stdout",
     "output_type": "stream",
     "text": [
      "Requirement already satisfied: opencv-python in d:\\tensorflow object detection\\tfodcourse\\rttfod\\lib\\site-packages (4.6.0.66)\n",
      "Requirement already satisfied: numpy>=1.19.3 in d:\\tensorflow object detection\\tfodcourse\\rttfod\\lib\\site-packages (from opencv-python) (1.22.4)\n"
     ]
    }
   ],
   "source": [
    "!pip install opencv-python"
   ]
  },
  {
   "cell_type": "code",
   "execution_count": 4,
   "metadata": {},
   "outputs": [],
   "source": [
    "# Importing opencv\n",
    "import cv2 \n",
    "\n",
    "# Importing uuid\n",
    "import uuid\n",
    "\n",
    "# Importing Operating System\n",
    "import os\n",
    "\n",
    "# Importing time\n",
    "import time"
   ]
  },
  {
   "cell_type": "markdown",
   "metadata": {},
   "source": [
    "# 2. Defining Images to Collect"
   ]
  },
  {
   "cell_type": "code",
   "execution_count": 13,
   "metadata": {},
   "outputs": [],
   "source": [
    "labels = ['thumbsup', 'thumbsdown', 'thankyou', 'livelong', 'peace']\n",
    "number_imgs = 10"
   ]
  },
  {
   "cell_type": "code",
   "execution_count": 14,
   "metadata": {},
   "outputs": [
    {
     "data": {
      "text/plain": [
       "list"
      ]
     },
     "execution_count": 14,
     "metadata": {},
     "output_type": "execute_result"
    }
   ],
   "source": [
    "type(labels)"
   ]
  },
  {
   "cell_type": "markdown",
   "metadata": {},
   "source": [
    "# 3. Setting up Folders "
   ]
  },
  {
   "cell_type": "code",
   "execution_count": 15,
   "metadata": {},
   "outputs": [],
   "source": [
    "IMAGES_PATH = os.path.join('Tensorflow', 'workspace', 'images', 'collectedimages')"
   ]
  },
  {
   "cell_type": "code",
   "execution_count": 16,
   "metadata": {},
   "outputs": [
    {
     "name": "stdout",
     "output_type": "stream",
     "text": [
      "Tensorflow\\workspace\\images\\collectedimages\n"
     ]
    }
   ],
   "source": [
    "print(IMAGES_PATH)"
   ]
  },
  {
   "cell_type": "code",
   "execution_count": 17,
   "metadata": {},
   "outputs": [
    {
     "data": {
      "text/plain": [
       "'nt'"
      ]
     },
     "execution_count": 17,
     "metadata": {},
     "output_type": "execute_result"
    }
   ],
   "source": [
    "os.name"
   ]
  },
  {
   "cell_type": "code",
   "execution_count": 18,
   "metadata": {},
   "outputs": [],
   "source": [
    "if not os.path.exists(IMAGES_PATH):\n",
    "    if os.name == 'posix':\n",
    "        !mkdir -p {IMAGES_PATH}\n",
    "    if os.name == 'nt':\n",
    "         !mkdir {IMAGES_PATH}\n",
    "for label in labels:\n",
    "    path = os.path.join(IMAGES_PATH, label)\n",
    "    if not os.path.exists(path):\n",
    "        !mkdir {path}"
   ]
  },
  {
   "cell_type": "markdown",
   "metadata": {},
   "source": [
    "# 4. Capturing Images"
   ]
  },
  {
   "cell_type": "code",
   "execution_count": 21,
   "metadata": {},
   "outputs": [
    {
     "name": "stdout",
     "output_type": "stream",
     "text": [
      "Collecting images for thumbsup\n",
      "Collecting image 0\n",
      "Collecting image 1\n",
      "Collecting image 2\n",
      "Collecting image 3\n",
      "Collecting image 4\n",
      "Collecting image 5\n",
      "Collecting image 6\n",
      "Collecting image 7\n",
      "Collecting image 8\n",
      "Collecting image 9\n",
      "Collecting images for thumbsdown\n",
      "Collecting image 0\n",
      "Collecting image 1\n",
      "Collecting image 2\n",
      "Collecting image 3\n",
      "Collecting image 4\n",
      "Collecting image 5\n",
      "Collecting image 6\n",
      "Collecting image 7\n",
      "Collecting image 8\n",
      "Collecting image 9\n",
      "Collecting images for thankyou\n",
      "Collecting image 0\n",
      "Collecting image 1\n",
      "Collecting image 2\n",
      "Collecting image 3\n",
      "Collecting image 4\n",
      "Collecting image 5\n",
      "Collecting image 6\n",
      "Collecting image 7\n",
      "Collecting image 8\n",
      "Collecting image 9\n",
      "Collecting images for livelong\n",
      "Collecting image 0\n",
      "Collecting image 1\n",
      "Collecting image 2\n",
      "Collecting image 3\n",
      "Collecting image 4\n",
      "Collecting image 5\n",
      "Collecting image 6\n",
      "Collecting image 7\n",
      "Collecting image 8\n",
      "Collecting image 9\n",
      "Collecting images for peace\n",
      "Collecting image 0\n",
      "Collecting image 1\n",
      "Collecting image 2\n",
      "Collecting image 3\n",
      "Collecting image 4\n",
      "Collecting image 5\n",
      "Collecting image 6\n",
      "Collecting image 7\n",
      "Collecting image 8\n",
      "Collecting image 9\n"
     ]
    }
   ],
   "source": [
    "for label in labels:\n",
    "    cap = cv2.VideoCapture(0)#Connects yo our webcam or capture device\n",
    "    print('Collecting images for {}'.format(label))\n",
    "    time.sleep(5)\n",
    "    for imgnum in range(number_imgs):\n",
    "        print('Collecting image {}'.format(imgnum))\n",
    "        ret, frame = cap.read()\n",
    "        imgname = os.path.join(IMAGES_PATH,label,label+'.'+'{}.jpg'.format(str(uuid.uuid1())))\n",
    "        cv2.imwrite(imgname, frame)\n",
    "        cv2.imshow('frame', frame)\n",
    "        time.sleep(2)\n",
    "\n",
    "        if cv2.waitKey(1) & 0xFF == ord('q'):\n",
    "            break\n",
    "cap.release()\n",
    "cv2.destroyAllWindows()"
   ]
  },
  {
   "cell_type": "markdown",
   "metadata": {},
   "source": [
    "# 5. Image Labelling"
   ]
  },
  {
   "cell_type": "code",
   "execution_count": 26,
   "metadata": {},
   "outputs": [
    {
     "name": "stdout",
     "output_type": "stream",
     "text": [
      "Requirement already satisfied: pyqt5 in d:\\tensorflow object detection\\tfodcourse\\rttfod\\lib\\site-packages (5.15.6)\n",
      "Requirement already satisfied: lxml in d:\\tensorflow object detection\\tfodcourse\\rttfod\\lib\\site-packages (4.9.0)\n",
      "Requirement already satisfied: PyQt5-Qt5>=5.15.2 in d:\\tensorflow object detection\\tfodcourse\\rttfod\\lib\\site-packages (from pyqt5) (5.15.2)\n",
      "Requirement already satisfied: PyQt5-sip<13,>=12.8 in d:\\tensorflow object detection\\tfodcourse\\rttfod\\lib\\site-packages (from pyqt5) (12.10.1)\n"
     ]
    }
   ],
   "source": [
    "!pip install --upgrade pyqt5 lxml"
   ]
  },
  {
   "cell_type": "code",
   "execution_count": 27,
   "metadata": {},
   "outputs": [
    {
     "name": "stdout",
     "output_type": "stream",
     "text": [
      "Package           Version\n",
      "----------------- -----------\n",
      "asttokens         2.0.5\n",
      "backcall          0.2.0\n",
      "colorama          0.4.4\n",
      "debugpy           1.6.0\n",
      "decorator         5.1.1\n",
      "entrypoints       0.4\n",
      "executing         0.8.3\n",
      "ipykernel         6.13.1\n",
      "ipython           8.4.0\n",
      "jedi              0.18.1\n",
      "jupyter-client    7.3.4\n",
      "jupyter-core      4.10.0\n",
      "lxml              4.9.0\n",
      "matplotlib-inline 0.1.3\n",
      "nest-asyncio      1.5.5\n",
      "numpy             1.22.4\n",
      "opencv-python     4.6.0.66\n",
      "packaging         21.3\n",
      "parso             0.8.3\n",
      "pickleshare       0.7.5\n",
      "pip               22.1.2\n",
      "prompt-toolkit    3.0.29\n",
      "psutil            5.9.1\n",
      "pure-eval         0.2.2\n",
      "Pygments          2.12.0\n",
      "pyparsing         3.0.9\n",
      "PyQt5             5.15.6\n",
      "PyQt5-Qt5         5.15.2\n",
      "PyQt5-sip         12.10.1\n",
      "python-dateutil   2.8.2\n",
      "pywin32           304\n",
      "pyzmq             23.1.0\n",
      "setuptools        49.2.1\n",
      "six               1.16.0\n",
      "stack-data        0.2.0\n",
      "tornado           6.1\n",
      "traitlets         5.2.2.post1\n",
      "wcwidth           0.2.5\n"
     ]
    }
   ],
   "source": [
    "!pip list"
   ]
  },
  {
   "cell_type": "code",
   "execution_count": 28,
   "metadata": {},
   "outputs": [],
   "source": [
    "LABELIMG_PATH = os.path.join('Tensorflow', 'labelimg')"
   ]
  },
  {
   "cell_type": "code",
   "execution_count": 29,
   "metadata": {},
   "outputs": [
    {
     "name": "stderr",
     "output_type": "stream",
     "text": [
      "Cloning into 'Tensorflow\\labelimg'...\n"
     ]
    }
   ],
   "source": [
    "if not os.path.exists(LABELIMG_PATH):\n",
    "    !mkdir {LABELIMG_PATH}\n",
    "    !git clone https://github.com/tzutalin/labelImg {LABELIMG_PATH}"
   ]
  },
  {
   "cell_type": "code",
   "execution_count": 30,
   "metadata": {},
   "outputs": [
    {
     "data": {
      "text/plain": [
       "'Tensorflow\\\\labelimg'"
      ]
     },
     "execution_count": 30,
     "metadata": {},
     "output_type": "execute_result"
    }
   ],
   "source": [
    "LABELIMG_PATH"
   ]
  },
  {
   "cell_type": "code",
   "execution_count": 33,
   "metadata": {},
   "outputs": [],
   "source": [
    "if os.name == 'posix':\n",
    "    !cd {LABELIMG_PATH} && make qt5py3\n",
    "if os.name =='nt':\n",
    "    !cd {LABELIMG_PATH} && pyrcc5 -o libs/resources.py resources.qrc"
   ]
  },
  {
   "cell_type": "code",
   "execution_count": 34,
   "metadata": {},
   "outputs": [
    {
     "name": "stdout",
     "output_type": "stream",
     "text": [
      "Image:D:\\Tensorflow Object Detection\\TFODCourse\\Tensorflow\\workspace\\images\\collectedimages\\livelong\\livelong.6ffe90a3-eaf7-11ec-9f5b-c0b883ca5160.jpg -> Annotation:D:/Tensorflow Object Detection/TFODCourse/Tensorflow/workspace/images/collectedimages/livelong/livelong.6ffe90a3-eaf7-11ec-9f5b-c0b883ca5160.xml\n",
      "Image:D:\\Tensorflow Object Detection\\TFODCourse\\Tensorflow\\workspace\\images\\collectedimages\\livelong\\livelong.9baaeea7-eaf4-11ec-8c99-c0b883ca5160.jpg -> Annotation:D:/Tensorflow Object Detection/TFODCourse/Tensorflow/workspace/images/collectedimages/livelong/livelong.9baaeea7-eaf4-11ec-8c99-c0b883ca5160.xml\n",
      "Image:D:\\Tensorflow Object Detection\\TFODCourse\\Tensorflow\\workspace\\images\\collectedimages\\livelong\\livelong.9ce1c97f-eaf4-11ec-b8b4-c0b883ca5160.jpg -> Annotation:D:/Tensorflow Object Detection/TFODCourse/Tensorflow/workspace/images/collectedimages/livelong/livelong.9ce1c97f-eaf4-11ec-b8b4-c0b883ca5160.xml\n",
      "Image:D:\\Tensorflow Object Detection\\TFODCourse\\Tensorflow\\workspace\\images\\collectedimages\\livelong\\livelong.73a053c6-eaf7-11ec-805e-c0b883ca5160.jpg -> Annotation:D:/Tensorflow Object Detection/TFODCourse/Tensorflow/workspace/images/collectedimages/livelong/livelong.73a053c6-eaf7-11ec-805e-c0b883ca5160.xml\n",
      "Cancel creation.\n",
      "Image:D:\\Tensorflow Object Detection\\TFODCourse\\Tensorflow\\workspace\\images\\collectedimages\\livelong\\livelong.761b80f1-eaf7-11ec-b18c-c0b883ca5160.jpg -> Annotation:D:/Tensorflow Object Detection/TFODCourse/Tensorflow/workspace/images/collectedimages/livelong/livelong.761b80f1-eaf7-11ec-b18c-c0b883ca5160.xml\n",
      "Image:D:\\Tensorflow Object Detection\\TFODCourse\\Tensorflow\\workspace\\images\\collectedimages\\livelong\\livelong.71333b32-eaf7-11ec-9960-c0b883ca5160.jpg -> Annotation:D:/Tensorflow Object Detection/TFODCourse/Tensorflow/workspace/images/collectedimages/livelong/livelong.71333b32-eaf7-11ec-9960-c0b883ca5160.xml\n",
      "Image:D:\\Tensorflow Object Detection\\TFODCourse\\Tensorflow\\workspace\\images\\collectedimages\\livelong\\livelong.98096e4d-eaf4-11ec-9c73-c0b883ca5160.jpg -> Annotation:D:/Tensorflow Object Detection/TFODCourse/Tensorflow/workspace/images/collectedimages/livelong/livelong.98096e4d-eaf4-11ec-9c73-c0b883ca5160.xml\n",
      "Image:D:\\Tensorflow Object Detection\\TFODCourse\\Tensorflow\\workspace\\images\\collectedimages\\livelong\\livelong.c2cebf72-eaf1-11ec-a411-c0b883ca5160.jpg -> Annotation:D:/Tensorflow Object Detection/TFODCourse/Tensorflow/workspace/images/collectedimages/livelong/livelong.c2cebf72-eaf1-11ec-a411-c0b883ca5160.xml\n",
      "Image:D:\\Tensorflow Object Detection\\TFODCourse\\Tensorflow\\workspace\\images\\collectedimages\\livelong\\livelong.a0826d5c-eaf4-11ec-8635-c0b883ca5160.jpg -> Annotation:D:/Tensorflow Object Detection/TFODCourse/Tensorflow/workspace/images/collectedimages/livelong/livelong.a0826d5c-eaf4-11ec-8635-c0b883ca5160.xml\n",
      "Image:D:\\Tensorflow Object Detection\\TFODCourse\\Tensorflow\\workspace\\images\\collectedimages\\livelong\\livelong.bdfb6fba-eaf1-11ec-864a-c0b883ca5160.jpg -> Annotation:D:/Tensorflow Object Detection/TFODCourse/Tensorflow/workspace/images/collectedimages/livelong/livelong.bdfb6fba-eaf1-11ec-864a-c0b883ca5160.xml\n",
      "Cancel creation.\n",
      "Image:D:\\Tensorflow Object Detection\\TFODCourse\\Tensorflow\\workspace\\images\\collectedimages\\peace\\peace.7f2c409e-eaf7-11ec-a79a-c0b883ca5160.jpg -> Annotation:D:/Tensorflow Object Detection/TFODCourse/Tensorflow/workspace/images/collectedimages/peace/peace.7f2c409e-eaf7-11ec-a79a-c0b883ca5160.xml\n",
      "Image:D:\\Tensorflow Object Detection\\TFODCourse\\Tensorflow\\workspace\\images\\collectedimages\\peace\\peace.87a34f83-eaf7-11ec-9a7c-c0b883ca5160.jpg -> Annotation:D:/Tensorflow Object Detection/TFODCourse/Tensorflow/workspace/images/collectedimages/peace/peace.87a34f83-eaf7-11ec-9a7c-c0b883ca5160.xml\n",
      "Image:D:\\Tensorflow Object Detection\\TFODCourse\\Tensorflow\\workspace\\images\\collectedimages\\peace\\peace.81967cef-eaf7-11ec-b0d5-c0b883ca5160.jpg -> Annotation:D:/Tensorflow Object Detection/TFODCourse/Tensorflow/workspace/images/collectedimages/peace/peace.81967cef-eaf7-11ec-b0d5-c0b883ca5160.xml\n",
      "Image:D:\\Tensorflow Object Detection\\TFODCourse\\Tensorflow\\workspace\\images\\collectedimages\\peace\\peace.853814d0-eaf7-11ec-be44-c0b883ca5160.jpg -> Annotation:D:/Tensorflow Object Detection/TFODCourse/Tensorflow/workspace/images/collectedimages/peace/peace.853814d0-eaf7-11ec-be44-c0b883ca5160.xml\n",
      "Image:D:\\Tensorflow Object Detection\\TFODCourse\\Tensorflow\\workspace\\images\\collectedimages\\peace\\peace.aa9d6600-eaf4-11ec-87ae-c0b883ca5160.jpg -> Annotation:D:/Tensorflow Object Detection/TFODCourse/Tensorflow/workspace/images/collectedimages/peace/peace.aa9d6600-eaf4-11ec-87ae-c0b883ca5160.xml\n",
      "Image:D:\\Tensorflow Object Detection\\TFODCourse\\Tensorflow\\workspace\\images\\collectedimages\\peace\\peace.b0b5cd74-eaf4-11ec-b472-c0b883ca5160.jpg -> Annotation:D:/Tensorflow Object Detection/TFODCourse/Tensorflow/workspace/images/collectedimages/peace/peace.b0b5cd74-eaf4-11ec-b472-c0b883ca5160.xml\n",
      "Image:D:\\Tensorflow Object Detection\\TFODCourse\\Tensorflow\\workspace\\images\\collectedimages\\peace\\peace.b31f842d-eaf4-11ec-a552-c0b883ca5160.jpg -> Annotation:D:/Tensorflow Object Detection/TFODCourse/Tensorflow/workspace/images/collectedimages/peace/peace.b31f842d-eaf4-11ec-a552-c0b883ca5160.xml\n",
      "Image:D:\\Tensorflow Object Detection\\TFODCourse\\Tensorflow\\workspace\\images\\collectedimages\\peace\\peace.cd2e2c36-eaf1-11ec-989c-c0b883ca5160.jpg -> Annotation:D:/Tensorflow Object Detection/TFODCourse/Tensorflow/workspace/images/collectedimages/peace/peace.cd2e2c36-eaf1-11ec-989c-c0b883ca5160.xml\n",
      "Image:D:\\Tensorflow Object Detection\\TFODCourse\\Tensorflow\\workspace\\images\\collectedimages\\peace\\peace.d5a69a6d-eaf1-11ec-bc94-c0b883ca5160.jpg -> Annotation:D:/Tensorflow Object Detection/TFODCourse/Tensorflow/workspace/images/collectedimages/peace/peace.d5a69a6d-eaf1-11ec-bc94-c0b883ca5160.xml\n",
      "Cancel creation.\n",
      "Cancel creation.\n",
      "Image:D:\\Tensorflow Object Detection\\TFODCourse\\Tensorflow\\workspace\\images\\collectedimages\\peace\\peace.d470d866-eaf1-11ec-a97b-c0b883ca5160.jpg -> Annotation:D:/Tensorflow Object Detection/TFODCourse/Tensorflow/workspace/images/collectedimages/peace/peace.d470d866-eaf1-11ec-a97b-c0b883ca5160.xml\n",
      "Image:D:\\Tensorflow Object Detection\\TFODCourse\\Tensorflow\\workspace\\images\\collectedimages\\thankyou\\thankyou.5a2bbce6-eaf7-11ec-99bb-c0b883ca5160.jpg -> Annotation:D:/Tensorflow Object Detection/TFODCourse/Tensorflow/workspace/images/collectedimages/thankyou/thankyou.5a2bbce6-eaf7-11ec-99bb-c0b883ca5160.xml\n",
      "Image:D:\\Tensorflow Object Detection\\TFODCourse\\Tensorflow\\workspace\\images\\collectedimages\\thankyou\\thankyou.5b6a932b-eaf7-11ec-8936-c0b883ca5160.jpg -> Annotation:D:/Tensorflow Object Detection/TFODCourse/Tensorflow/workspace/images/collectedimages/thankyou/thankyou.5b6a932b-eaf7-11ec-8936-c0b883ca5160.xml\n",
      "Image:D:\\Tensorflow Object Detection\\TFODCourse\\Tensorflow\\workspace\\images\\collectedimages\\thankyou\\thankyou.5dd4ea55-eaf7-11ec-bc23-c0b883ca5160.jpg -> Annotation:D:/Tensorflow Object Detection/TFODCourse/Tensorflow/workspace/images/collectedimages/thankyou/thankyou.5dd4ea55-eaf7-11ec-bc23-c0b883ca5160.xml\n",
      "Cancel creation.\n",
      "Image:D:\\Tensorflow Object Detection\\TFODCourse\\Tensorflow\\workspace\\images\\collectedimages\\thankyou\\thankyou.8d641944-eaf4-11ec-a648-c0b883ca5160.jpg -> Annotation:D:/Tensorflow Object Detection/TFODCourse/Tensorflow/workspace/images/collectedimages/thankyou/thankyou.8d641944-eaf4-11ec-a648-c0b883ca5160.xml\n",
      "Image:D:\\Tensorflow Object Detection\\TFODCourse\\Tensorflow\\workspace\\images\\collectedimages\\thankyou\\thankyou.8fcea306-eaf4-11ec-8d41-c0b883ca5160.jpg -> Annotation:D:/Tensorflow Object Detection/TFODCourse/Tensorflow/workspace/images/collectedimages/thankyou/thankyou.8fcea306-eaf4-11ec-8d41-c0b883ca5160.xml\n",
      "Image:D:\\Tensorflow Object Detection\\TFODCourse\\Tensorflow\\workspace\\images\\collectedimages\\thankyou\\thankyou.89c40bd2-eaf4-11ec-9ad1-c0b883ca5160.jpg -> Annotation:D:/Tensorflow Object Detection/TFODCourse/Tensorflow/workspace/images/collectedimages/thankyou/thankyou.89c40bd2-eaf4-11ec-9ad1-c0b883ca5160.xml\n",
      "Image:D:\\Tensorflow Object Detection\\TFODCourse\\Tensorflow\\workspace\\images\\collectedimages\\thankyou\\thankyou.888dad25-eaf4-11ec-8c07-c0b883ca5160.jpg -> Annotation:D:/Tensorflow Object Detection/TFODCourse/Tensorflow/workspace/images/collectedimages/thankyou/thankyou.888dad25-eaf4-11ec-8c07-c0b883ca5160.xml\n",
      "Cancel creation.\n",
      "Image:D:\\Tensorflow Object Detection\\TFODCourse\\Tensorflow\\workspace\\images\\collectedimages\\thankyou\\thankyou.b0e17041-eaf1-11ec-a073-c0b883ca5160.jpg -> Annotation:D:/Tensorflow Object Detection/TFODCourse/Tensorflow/workspace/images/collectedimages/thankyou/thankyou.b0e17041-eaf1-11ec-a073-c0b883ca5160.xml\n",
      "Image:D:\\Tensorflow Object Detection\\TFODCourse\\Tensorflow\\workspace\\images\\collectedimages\\thankyou\\thankyou.b217e6ea-eaf1-11ec-839c-c0b883ca5160.jpg -> Annotation:D:/Tensorflow Object Detection/TFODCourse/Tensorflow/workspace/images/collectedimages/thankyou/thankyou.b217e6ea-eaf1-11ec-839c-c0b883ca5160.xml\n",
      "Image:D:\\Tensorflow Object Detection\\TFODCourse\\Tensorflow\\workspace\\images\\collectedimages\\thankyou\\thankyou.b4856d39-eaf1-11ec-b255-c0b883ca5160.jpg -> Annotation:D:/Tensorflow Object Detection/TFODCourse/Tensorflow/workspace/images/collectedimages/thankyou/thankyou.b4856d39-eaf1-11ec-b255-c0b883ca5160.xml\n",
      "Cancel creation.\n",
      "Image:D:\\Tensorflow Object Detection\\TFODCourse\\Tensorflow\\workspace\\images\\collectedimages\\thumbsdown\\thumbsdown.4c5db305-eaf7-11ec-9f4c-c0b883ca5160.jpg -> Annotation:D:/Tensorflow Object Detection/TFODCourse/Tensorflow/workspace/images/collectedimages/thumbsdown/thumbsdown.4c5db305-eaf7-11ec-9f4c-c0b883ca5160.xml\n",
      "Image:D:\\Tensorflow Object Detection\\TFODCourse\\Tensorflow\\workspace\\images\\collectedimages\\thumbsdown\\thumbsdown.4fff6e26-eaf7-11ec-97a0-c0b883ca5160.jpg -> Annotation:D:/Tensorflow Object Detection/TFODCourse/Tensorflow/workspace/images/collectedimages/thumbsdown/thumbsdown.4fff6e26-eaf7-11ec-97a0-c0b883ca5160.xml\n",
      "Image:D:\\Tensorflow Object Detection\\TFODCourse\\Tensorflow\\workspace\\images\\collectedimages\\thumbsdown\\thumbsdown.7f7029e2-eaf4-11ec-881c-c0b883ca5160.jpg -> Annotation:D:/Tensorflow Object Detection/TFODCourse/Tensorflow/workspace/images/collectedimages/thumbsdown/thumbsdown.7f7029e2-eaf4-11ec-881c-c0b883ca5160.xml\n",
      "Image:D:\\Tensorflow Object Detection\\TFODCourse\\Tensorflow\\workspace\\images\\collectedimages\\thumbsdown\\thumbsdown.48ae09e6-eaf7-11ec-b999-c0b883ca5160.jpg -> Annotation:D:/Tensorflow Object Detection/TFODCourse/Tensorflow/workspace/images/collectedimages/thumbsdown/thumbsdown.48ae09e6-eaf7-11ec-b999-c0b883ca5160.xml\n",
      "Image:D:\\Tensorflow Object Detection\\TFODCourse\\Tensorflow\\workspace\\images\\collectedimages\\thumbsdown\\thumbsdown.53b57d14-eaf7-11ec-8f98-c0b883ca5160.jpg -> Annotation:D:/Tensorflow Object Detection/TFODCourse/Tensorflow/workspace/images/collectedimages/thumbsdown/thumbsdown.53b57d14-eaf7-11ec-8f98-c0b883ca5160.xml\n",
      "Image:D:\\Tensorflow Object Detection\\TFODCourse\\Tensorflow\\workspace\\images\\collectedimages\\thumbsdown\\thumbsdown.75acaea7-eaf4-11ec-bbc6-c0b883ca5160.jpg -> Annotation:D:/Tensorflow Object Detection/TFODCourse/Tensorflow/workspace/images/collectedimages/thumbsdown/thumbsdown.75acaea7-eaf4-11ec-bbc6-c0b883ca5160.xml\n",
      "Cancel creation.\n",
      "Image:D:\\Tensorflow Object Detection\\TFODCourse\\Tensorflow\\workspace\\images\\collectedimages\\thumbsdown\\thumbsdown.527f40f9-eaf7-11ec-b7f5-c0b883ca5160.jpg -> Annotation:D:/Tensorflow Object Detection/TFODCourse/Tensorflow/workspace/images/collectedimages/thumbsdown/thumbsdown.527f40f9-eaf7-11ec-b7f5-c0b883ca5160.xml\n",
      "Cancel creation.\n",
      "Image:D:\\Tensorflow Object Detection\\TFODCourse\\Tensorflow\\workspace\\images\\collectedimages\\thumbsdown\\thumbsdown.795c3527-eaf4-11ec-96ff-c0b883ca5160.jpg -> Annotation:D:/Tensorflow Object Detection/TFODCourse/Tensorflow/workspace/images/collectedimages/thumbsdown/thumbsdown.795c3527-eaf4-11ec-96ff-c0b883ca5160.xml\n",
      "Image:D:\\Tensorflow Object Detection\\TFODCourse\\Tensorflow\\workspace\\images\\collectedimages\\thumbsdown\\thumbsdown.78177ebb-eaf4-11ec-bb2f-c0b883ca5160.jpg -> Annotation:D:/Tensorflow Object Detection/TFODCourse/Tensorflow/workspace/images/collectedimages/thumbsdown/thumbsdown.78177ebb-eaf4-11ec-bb2f-c0b883ca5160.xml\n",
      "Image:D:\\Tensorflow Object Detection\\TFODCourse\\Tensorflow\\workspace\\images\\collectedimages\\thumbsdown\\thumbsdown.a1a1e98e-eaf1-11ec-8924-c0b883ca5160.jpg -> Annotation:D:/Tensorflow Object Detection/TFODCourse/Tensorflow/workspace/images/collectedimages/thumbsdown/thumbsdown.a1a1e98e-eaf1-11ec-8924-c0b883ca5160.xml\n",
      "Image:D:\\Tensorflow Object Detection\\TFODCourse\\Tensorflow\\workspace\\images\\collectedimages\\thumbsup\\thumbsup.3c26bc06-eaf7-11ec-ae99-c0b883ca5160.jpg -> Annotation:D:/Tensorflow Object Detection/TFODCourse/Tensorflow/workspace/images/collectedimages/thumbsup/thumbsup.3c26bc06-eaf7-11ec-ae99-c0b883ca5160.xml\n",
      "Image:D:\\Tensorflow Object Detection\\TFODCourse\\Tensorflow\\workspace\\images\\collectedimages\\thumbsup\\thumbsup.3d5d2807-eaf7-11ec-96b8-c0b883ca5160.jpg -> Annotation:D:/Tensorflow Object Detection/TFODCourse/Tensorflow/workspace/images/collectedimages/thumbsup/thumbsup.3d5d2807-eaf7-11ec-96b8-c0b883ca5160.xml\n",
      "Image:D:\\Tensorflow Object Detection\\TFODCourse\\Tensorflow\\workspace\\images\\collectedimages\\thumbsup\\thumbsup.3e92ec6d-eaf7-11ec-bf50-c0b883ca5160.jpg -> Annotation:D:/Tensorflow Object Detection/TFODCourse/Tensorflow/workspace/images/collectedimages/thumbsup/thumbsup.3e92ec6d-eaf7-11ec-bf50-c0b883ca5160.xml\n",
      "Image:D:\\Tensorflow Object Detection\\TFODCourse\\Tensorflow\\workspace\\images\\collectedimages\\thumbsup\\thumbsup.3fc8fe6a-eaf7-11ec-b3dc-c0b883ca5160.jpg -> Annotation:D:/Tensorflow Object Detection/TFODCourse/Tensorflow/workspace/images/collectedimages/thumbsup/thumbsup.3fc8fe6a-eaf7-11ec-b3dc-c0b883ca5160.xml\n",
      "Image:D:\\Tensorflow Object Detection\\TFODCourse\\Tensorflow\\workspace\\images\\collectedimages\\thumbsup\\thumbsup.3fc8fe6a-eaf7-11ec-b3dc-c0b883ca5160.jpg -> Annotation:D:\\Tensorflow Object Detection\\TFODCourse\\Tensorflow\\workspace\\images\\collectedimages\\thumbsup\\thumbsup.3fc8fe6a-eaf7-11ec-b3dc-c0b883ca5160.xml\n",
      "Image:D:\\Tensorflow Object Detection\\TFODCourse\\Tensorflow\\workspace\\images\\collectedimages\\thumbsup\\thumbsup.8ac701d3-eaf1-11ec-8b47-c0b883ca5160.jpg -> Annotation:D:/Tensorflow Object Detection/TFODCourse/Tensorflow/workspace/images/collectedimages/thumbsup/thumbsup.8ac701d3-eaf1-11ec-8b47-c0b883ca5160.xml\n",
      "Image:D:\\Tensorflow Object Detection\\TFODCourse\\Tensorflow\\workspace\\images\\collectedimages\\thumbsup\\thumbsup.8bfd54cd-eaf1-11ec-a737-c0b883ca5160.jpg -> Annotation:D:/Tensorflow Object Detection/TFODCourse/Tensorflow/workspace/images/collectedimages/thumbsup/thumbsup.8bfd54cd-eaf1-11ec-a737-c0b883ca5160.xml\n",
      "Image:D:\\Tensorflow Object Detection\\TFODCourse\\Tensorflow\\workspace\\images\\collectedimages\\thumbsup\\thumbsup.8e713877-eaf1-11ec-8a45-c0b883ca5160.jpg -> Annotation:D:/Tensorflow Object Detection/TFODCourse/Tensorflow/workspace/images/collectedimages/thumbsup/thumbsup.8e713877-eaf1-11ec-8a45-c0b883ca5160.xml\n",
      "Image:D:\\Tensorflow Object Detection\\TFODCourse\\Tensorflow\\workspace\\images\\collectedimages\\thumbsup\\thumbsup.39bdc086-eaf7-11ec-8011-c0b883ca5160.jpg -> Annotation:D:/Tensorflow Object Detection/TFODCourse/Tensorflow/workspace/images/collectedimages/thumbsup/thumbsup.39bdc086-eaf7-11ec-8011-c0b883ca5160.xml\n",
      "Cancel creation.\n",
      "Image:D:\\Tensorflow Object Detection\\TFODCourse\\Tensorflow\\workspace\\images\\collectedimages\\thumbsup\\thumbsup.37440a33-eaf7-11ec-bfc5-c0b883ca5160.jpg -> Annotation:D:/Tensorflow Object Detection/TFODCourse/Tensorflow/workspace/images/collectedimages/thumbsup/thumbsup.37440a33-eaf7-11ec-bfc5-c0b883ca5160.xml\n",
      "Image:D:\\Tensorflow Object Detection\\TFODCourse\\Tensorflow\\workspace\\images\\collectedimages\\thumbsup\\thumbsup.42348a6c-eaf7-11ec-be50-c0b883ca5160.jpg -> Annotation:D:/Tensorflow Object Detection/TFODCourse/Tensorflow/workspace/images/collectedimages/thumbsup/thumbsup.42348a6c-eaf7-11ec-be50-c0b883ca5160.xml\n",
      "Image:D:\\Tensorflow Object Detection\\TFODCourse\\Tensorflow\\workspace\\images\\collectedimages\\thumbsup\\thumbsup.89924940-eaf1-11ec-a301-c0b883ca5160.jpg -> Annotation:D:/Tensorflow Object Detection/TFODCourse/Tensorflow/workspace/images/collectedimages/thumbsup/thumbsup.89924940-eaf1-11ec-a301-c0b883ca5160.xml\n"
     ]
    }
   ],
   "source": [
    "!cd {LABELIMG_PATH} && python labelImg.py"
   ]
  },
  {
   "cell_type": "markdown",
   "metadata": {},
   "source": [
    "# 6. Moving them into a Training and Testing Partition"
   ]
  },
  {
   "cell_type": "markdown",
   "metadata": {},
   "source": [
    "# OPTIONAL - 7. Compressing them for Colab Training"
   ]
  },
  {
   "cell_type": "code",
   "execution_count": 20,
   "metadata": {},
   "outputs": [],
   "source": [
    "TRAIN_PATH = os.path.join('Tensorflow', 'workspace', 'images', 'train')\n",
    "TEST_PATH = os.path.join('Tensorflow', 'workspace', 'images', 'test')\n",
    "ARCHIVE_PATH = os.path.join('Tensorflow', 'workspace', 'images', 'archive.tar.gz')"
   ]
  },
  {
   "cell_type": "code",
   "execution_count": null,
   "metadata": {},
   "outputs": [],
   "source": []
  }
 ],
 "metadata": {
  "kernelspec": {
   "display_name": "rrtfod",
   "language": "python",
   "name": "rrtfod"
  },
  "language_info": {
   "codemirror_mode": {
    "name": "ipython",
    "version": 3
   },
   "file_extension": ".py",
   "mimetype": "text/x-python",
   "name": "python",
   "nbconvert_exporter": "python",
   "pygments_lexer": "ipython3",
   "version": "3.9.2"
  }
 },
 "nbformat": 4,
 "nbformat_minor": 2
}
